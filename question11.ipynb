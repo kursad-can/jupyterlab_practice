{
 "cells": [
  {
   "cell_type": "markdown",
   "id": "f567f67e-8ddf-4503-b0f5-35cf31007004",
   "metadata": {},
   "source": [
    "# Name: Ahmet Kursad Can\n",
    "Notebook for assignment 7"
   ]
  },
  {
   "cell_type": "code",
   "execution_count": 3,
   "id": "37706ba7-71a9-4034-9298-93d4bc520834",
   "metadata": {},
   "outputs": [
    {
     "name": "stdout",
     "output_type": "stream",
     "text": [
      "5.0\n"
     ]
    }
   ],
   "source": [
    "def computing_the_mean(input_values):\n",
    "    mean_value = sum(input_values)/len(input_values)\n",
    "    print(mean_value)\n",
    "\n",
    "compute_mean([2, 4, 6, 8])"
   ]
  },
  {
   "cell_type": "markdown",
   "id": "9fb91ed6-2196-4fc2-82e6-ca8991d517c7",
   "metadata": {},
   "source": [
    "The function `computing_the_mean` takes a list of values as input and computes the mean by summing all the values and dividing by the number of values in the list. \n",
    "\n",
    "Display expression:\n",
    "\n",
    "   $$\n",
    "\\bar{x} = \\frac{x_1 + x_2 + \\cdots + x_n}{n} = \\frac{1}{n} \\left( \\sum_{i=1}^{n} x_i \\right)\n",
    "$$"
   ]
  },
  {
   "cell_type": "markdown",
   "id": "15219ca9-b2d2-4107-8e86-b6c098ec3fb7",
   "metadata": {},
   "source": []
  },
  {
   "cell_type": "code",
   "execution_count": null,
   "id": "ea317924-5f46-4fc9-9b24-cb668e73f0d1",
   "metadata": {},
   "outputs": [],
   "source": []
  }
 ],
 "metadata": {
  "kernelspec": {
   "display_name": "Python [conda env:base] *",
   "language": "python",
   "name": "conda-base-py"
  },
  "language_info": {
   "codemirror_mode": {
    "name": "ipython",
    "version": 3
   },
   "file_extension": ".py",
   "mimetype": "text/x-python",
   "name": "python",
   "nbconvert_exporter": "python",
   "pygments_lexer": "ipython3",
   "version": "3.12.2"
  }
 },
 "nbformat": 4,
 "nbformat_minor": 5
}
